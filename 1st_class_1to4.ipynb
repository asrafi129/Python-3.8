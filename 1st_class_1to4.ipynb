{
 "cells": [
  {
   "cell_type": "code",
   "execution_count": 1,
   "metadata": {},
   "outputs": [
    {
     "name": "stdout",
     "output_type": "stream",
     "text": [
      "5\n",
      "one\n",
      "two\n",
      "<class 'int'>\n",
      "<class 'str'>\n",
      "<class 'str'>\n",
      "<class 'str'>\n"
     ]
    }
   ],
   "source": [
    "a=5\n",
    "b=2\n",
    "c=\"one\"\n",
    "d='two'\n",
    "f='c'\n",
    "print(a)\n",
    "print(c)\n",
    "print(d)\n",
    "print(type(a))\n",
    "print(type(c))\n",
    "print(type(d))\n",
    "print(type(f))"
   ]
  },
  {
   "cell_type": "code",
   "execution_count": 2,
   "metadata": {},
   "outputs": [
    {
     "name": "stdout",
     "output_type": "stream",
     "text": [
      "7\n",
      "onetwo\n",
      "5 one\n"
     ]
    }
   ],
   "source": [
    "print(a+b)\n",
    "print(c+d)\n",
    "print(a,c)"
   ]
  },
  {
   "cell_type": "code",
   "execution_count": 3,
   "metadata": {},
   "outputs": [
    {
     "name": "stdout",
     "output_type": "stream",
     "text": [
      "this is  one \n",
      "this is two \n",
      "\tand 2+3 is  5,\n",
      "x is: 5.000000 and y is: 6.000000 \n",
      "x is: 5.000000 and y is: 6.000000 \n",
      "x is: 5 and y is: 6 \n",
      "x is: T and y is: Asrafi \n",
      "5 and Asrafi\n"
     ]
    }
   ],
   "source": [
    "print(\"this is \",c,'\\nthis is',d,\"\\n\\tand 2+3 is \",a,end=',') #multi print\n",
    "\n",
    "x,y,z,xx = 5,6,\"T\",\"Asrafi\"\n",
    "\n",
    "print(\"\\nx is: %f and y is: %f \" %(x,y))\n",
    "print(\"x is: %lf and y is: %lf \" %(x,y))\n",
    "print(\"x is: %d and y is: %d \" %(x,y))\n",
    "print(\"x is: %c and y is: %s \" %(z,xx))\n",
    "\n",
    "print(f\"{x} and {xx}\")"
   ]
  },
  {
   "cell_type": "code",
   "execution_count": 4,
   "metadata": {},
   "outputs": [
    {
     "name": "stdout",
     "output_type": "stream",
     "text": [
      "My name is \"Tonmoy\". \n",
      "My name is 'Tonmoy'. \n"
     ]
    }
   ],
   "source": [
    "print(\"My name is \\\"Tonmoy\\\". \")\n",
    "print('My name is \\'Tonmoy\\'. ')"
   ]
  },
  {
   "cell_type": "code",
   "execution_count": 5,
   "metadata": {},
   "outputs": [
    {
     "name": "stdout",
     "output_type": "stream",
     "text": [
      "7\n",
      "3\n",
      "10\n",
      "2.5\n",
      "1\n",
      "2\n",
      "25\n"
     ]
    }
   ],
   "source": [
    "'''\n",
    "Numerical\n",
    "Operations\n",
    "\n",
    "'''\n",
    "\n",
    "print(a+b)\n",
    "print(a-b)\n",
    "print(a*b)\n",
    "print(a/b)\n",
    "print(a%b)\n",
    "print(a//b) #floor\n",
    "print(a**b) #exponentiation"
   ]
  },
  {
   "cell_type": "code",
   "execution_count": 6,
   "metadata": {},
   "outputs": [
    {
     "name": "stdout",
     "output_type": "stream",
     "text": [
      "Enter your name: \n",
      "Tonmoy\n",
      "Name is: Tonmoy\n",
      "Enter your age: 25\n",
      "Enter your CGPA: 3\n",
      "Age: 25 \tCGPA:  3\n"
     ]
    }
   ],
   "source": [
    "'''\n",
    "string input \n",
    "'''\n",
    "print(\"Enter your name: \")\n",
    "name=input()\n",
    "print(\"Name is: \"+name)\n",
    "\n",
    "age=input(\"Enter your age: \")\n",
    "cgpa=input(\"Enter your CGPA: \")\n",
    "print(\"Age: \"+age,\"\\tCGPA: \",cgpa)\n"
   ]
  },
  {
   "cell_type": "code",
   "execution_count": 7,
   "metadata": {},
   "outputs": [
    {
     "name": "stdout",
     "output_type": "stream",
     "text": [
      "num1: 5\n",
      "Num2: 2\n",
      "enter any: Asrafi\n",
      "5 2\n",
      "7\n",
      "5 Asrafi\n"
     ]
    }
   ],
   "source": [
    "'''\n",
    "numerical  input\n",
    "'''\n",
    "num1 = int(input(\"num1: \"))\n",
    "num2 = int(input(\"Num2: \"))\n",
    "str = input(\"enter any: \")\n",
    "\n",
    "print(num1,num2)\n",
    "print(num1+num2)\n",
    "\n",
    "print(num1,str)\n",
    " # print(num1+str) --> int+str \n"
   ]
  },
  {
   "cell_type": "code",
   "execution_count": 8,
   "metadata": {},
   "outputs": [
    {
     "name": "stdout",
     "output_type": "stream",
     "text": [
      "5\n",
      "2\n",
      "5\n",
      "125.0\n",
      "6.0\n",
      "2\n",
      "2\n",
      "3\n"
     ]
    }
   ],
   "source": [
    "'''Math lib function  '''\n",
    "from math import *\n",
    "\n",
    "print(max(5,2))\n",
    "print(min(5,2))\n",
    "print(abs(-5))\n",
    "print(pow(5,3))\n",
    "print(sqrt(36))\n",
    "print(round(5/2))\n",
    "print(floor(5/2))\n",
    "print(ceil(5/2))"
   ]
  },
  {
   "cell_type": "code",
   "execution_count": 9,
   "metadata": {},
   "outputs": [
    {
     "name": "stdout",
     "output_type": "stream",
     "text": [
      "True\n"
     ]
    }
   ],
   "source": [
    "'''Relational Operator & Boolean Data Type'''\n",
    "print(\"hello\"==\"hello\")"
   ]
  },
  {
   "cell_type": "code",
   "execution_count": 10,
   "metadata": {},
   "outputs": [
    {
     "name": "stdout",
     "output_type": "stream",
     "text": [
      "ok\n",
      "ok 2\n",
      "pass\n"
     ]
    }
   ],
   "source": [
    "name=\"tonmoy\"\n",
    "\n",
    "if name==\"tonmoy\":\n",
    "    print(\"ok\")\n",
    "    print(\"ok 2\")\n",
    "print(\"pass\")\n"
   ]
  },
  {
   "cell_type": "code",
   "execution_count": 11,
   "metadata": {},
   "outputs": [
    {
     "name": "stdout",
     "output_type": "stream",
     "text": [
      "a+\n"
     ]
    }
   ],
   "source": [
    "'''if,elif,else,inner if'''\n",
    "var=80\n",
    "\n",
    "if var>=60:\n",
    "    if var>=80:\n",
    "        print(\"a+\")\n",
    "    elif var>=70:        \n",
    "        print(\"a\")\n",
    "    else:\n",
    "        print(\"a-\")\n",
    "elif var<40:\n",
    "    print(\"fail\")\n",
    "else:\n",
    "    print(\"Ok\")"
   ]
  },
  {
   "cell_type": "code",
   "execution_count": 12,
   "metadata": {},
   "outputs": [
    {
     "name": "stdout",
     "output_type": "stream",
     "text": [
      "26\n",
      "26\n",
      "26\n",
      "26\n"
     ]
    }
   ],
   "source": [
    "var1,var2 = 20,26\n",
    "\n",
    "if var1>var2:\n",
    "    print(var1)\n",
    "else:\n",
    "    print(var2)\n",
    "\n",
    "    '''ternary operator'''\n",
    "print(var1 if var1>var2 else var2)  \n",
    "\n",
    "var3=var1 if var1>var2 else var2\n",
    "print(var3)\n",
    "\n",
    "print(max(var1,var2))"
   ]
  },
  {
   "cell_type": "code",
   "execution_count": 13,
   "metadata": {},
   "outputs": [
    {
     "data": {
      "text/plain": [
       "'Logical operator and, or,not'"
      ]
     },
     "execution_count": 13,
     "metadata": {},
     "output_type": "execute_result"
    }
   ],
   "source": [
    "'''Logical operator and, or,not'''"
   ]
  },
  {
   "cell_type": "code",
   "execution_count": 14,
   "metadata": {},
   "outputs": [
    {
     "name": "stdout",
     "output_type": "stream",
     "text": [
      "Monday\n"
     ]
    }
   ],
   "source": [
    "days = ['Monday', 'Tuesday', 'Wednesday',\n",
    "        'Thursday', 'Friday']\n",
    "print(days[0])"
   ]
  },
  {
   "cell_type": "code",
   "execution_count": null,
   "metadata": {},
   "outputs": [],
   "source": []
  }
 ],
 "metadata": {
  "kernelspec": {
   "display_name": "Python 3",
   "language": "python",
   "name": "python3"
  },
  "language_info": {
   "codemirror_mode": {
    "name": "ipython",
    "version": 3
   },
   "file_extension": ".py",
   "mimetype": "text/x-python",
   "name": "python",
   "nbconvert_exporter": "python",
   "pygments_lexer": "ipython3",
   "version": "3.7.4"
  }
 },
 "nbformat": 4,
 "nbformat_minor": 2
}

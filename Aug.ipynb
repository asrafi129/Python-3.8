{
 "cells": [
  {
   "cell_type": "code",
   "execution_count": 1,
   "metadata": {},
   "outputs": [
    {
     "name": "stdout",
     "output_type": "stream",
     "text": [
      "2\n",
      "4\n",
      "6\n",
      "8\n",
      "10\n"
     ]
    }
   ],
   "source": [
    "i = 1\n",
    "while i<=10:\n",
    "    if i%2==0:\n",
    "        print(i)\n",
    "    i+=1"
   ]
  },
  {
   "cell_type": "code",
   "execution_count": 2,
   "metadata": {},
   "outputs": [
    {
     "name": "stdout",
     "output_type": "stream",
     "text": [
      "<class 'list'>\n",
      "12\n",
      "43\n"
     ]
    }
   ],
   "source": [
    "data = [11,12,\"Asrafi\",65,'c',43]\n",
    "print(type(data))\n",
    "print(data[1])\n",
    "print(data[-1])\n",
    "\n",
    "   "
   ]
  },
  {
   "cell_type": "code",
   "execution_count": 3,
   "metadata": {},
   "outputs": [
    {
     "name": "stdout",
     "output_type": "stream",
     "text": [
      "11\n",
      "12\n",
      "Asrafi\n",
      "65\n"
     ]
    }
   ],
   "source": [
    "i=0\n",
    "while i<4:\n",
    "    print(data[i])\n",
    "    i+=1"
   ]
  },
  {
   "cell_type": "code",
   "execution_count": 4,
   "metadata": {},
   "outputs": [
    {
     "name": "stdout",
     "output_type": "stream",
     "text": [
      "11 12 Asrafi 65 "
     ]
    }
   ],
   "source": [
    "for i in data:\n",
    "    print(i,end=' ')\n",
    "    if i==65:\n",
    "        break\n",
    " "
   ]
  },
  {
   "cell_type": "code",
   "execution_count": 5,
   "metadata": {},
   "outputs": [
    {
     "name": "stdout",
     "output_type": "stream",
     "text": [
      "d\n",
      "a\n",
      "t\n",
      "a\n"
     ]
    }
   ],
   "source": [
    "for i in \"data\":\n",
    "    print(i)"
   ]
  },
  {
   "cell_type": "code",
   "execution_count": 6,
   "metadata": {},
   "outputs": [
    {
     "name": "stdout",
     "output_type": "stream",
     "text": [
      "11\n",
      "11\n"
     ]
    }
   ],
   "source": [
    "def function_name():\n",
    "    x,y=5,6\n",
    "    print(x+y)\n",
    "    \n",
    "function_name()\n",
    "function_name()\n"
   ]
  },
  {
   "cell_type": "code",
   "execution_count": 7,
   "metadata": {},
   "outputs": [
    {
     "name": "stdout",
     "output_type": "stream",
     "text": [
      "15\n",
      "14\n",
      "11\n"
     ]
    }
   ],
   "source": [
    "def function_name(a,b=1):\n",
    "    print(a+b)\n",
    "    \n",
    "function_name(5,10)\n",
    "function_name(6,8)\n",
    "function_name(10)\n"
   ]
  },
  {
   "cell_type": "code",
   "execution_count": 8,
   "metadata": {},
   "outputs": [
    {
     "name": "stdout",
     "output_type": "stream",
     "text": [
      "5\n"
     ]
    }
   ],
   "source": [
    "num=2\n",
    "\n",
    "def local():\n",
    "    global num\n",
    "    num=num+3\n",
    "    print(num)\n",
    "    \n",
    "local()\n",
    "#not good"
   ]
  },
  {
   "cell_type": "code",
   "execution_count": 9,
   "metadata": {},
   "outputs": [
    {
     "name": "stdout",
     "output_type": "stream",
     "text": [
      "Asrafi   21\n"
     ]
    }
   ],
   "source": [
    "class Show:  \n",
    "    def func(self,name,age):\n",
    "        print(name,\" \",age)\n",
    "\n",
    "var1 = Show()\n",
    "var1.func(\"Asrafi\",21)"
   ]
  },
  {
   "cell_type": "code",
   "execution_count": 10,
   "metadata": {},
   "outputs": [
    {
     "name": "stdout",
     "output_type": "stream",
     "text": [
      "Asrafi   20\n",
      "Tonmoy   25\n"
     ]
    }
   ],
   "source": [
    "class Person:\n",
    "    def __init__(self, name, age):\n",
    "        self.name = name\n",
    "        self.age = age     #constructor\n",
    "\n",
    "ob1 = Person(\"Asrafi\", 20)\n",
    "ob2 = Person(\"Tonmoy\", 25)\n",
    "\n",
    "print(ob1.name,\" \",ob1.age)\n",
    "print(ob2.name,\" \",ob2.age)\n"
   ]
  },
  {
   "cell_type": "code",
   "execution_count": 11,
   "metadata": {},
   "outputs": [
    {
     "name": "stdout",
     "output_type": "stream",
     "text": [
      "<class 'tuple'>\n",
      "Asrafi\n"
     ]
    }
   ],
   "source": [
    "lp = [11,12,\"Asrafi\",65,'c',43]\n",
    "\n",
    "tp=(11,12,\"Asrafi\",65,'c',43)\n",
    "print(type(tp))\n",
    "print(tp[2])"
   ]
  },
  {
   "cell_type": "code",
   "execution_count": 12,
   "metadata": {},
   "outputs": [
    {
     "name": "stdout",
     "output_type": "stream",
     "text": [
      "5\n"
     ]
    }
   ],
   "source": [
    "lp[1]=5\n",
    "print(lp[1])"
   ]
  },
  {
   "cell_type": "code",
   "execution_count": 13,
   "metadata": {},
   "outputs": [
    {
     "ename": "TypeError",
     "evalue": "'tuple' object does not support item assignment",
     "output_type": "error",
     "traceback": [
      "\u001b[1;31m---------------------------------------------------------------------------\u001b[0m",
      "\u001b[1;31mTypeError\u001b[0m                                 Traceback (most recent call last)",
      "\u001b[1;32m<ipython-input-13-8e6b79bb5c0b>\u001b[0m in \u001b[0;36m<module>\u001b[1;34m\u001b[0m\n\u001b[1;32m----> 1\u001b[1;33m \u001b[0mtp\u001b[0m\u001b[1;33m[\u001b[0m\u001b[1;36m1\u001b[0m\u001b[1;33m]\u001b[0m\u001b[1;33m=\u001b[0m\u001b[1;36m5\u001b[0m\u001b[1;33m\u001b[0m\u001b[1;33m\u001b[0m\u001b[0m\n\u001b[0m\u001b[0;32m      2\u001b[0m \u001b[0mprint\u001b[0m\u001b[1;33m(\u001b[0m\u001b[0mtp\u001b[0m\u001b[1;33m[\u001b[0m\u001b[1;36m1\u001b[0m\u001b[1;33m]\u001b[0m\u001b[1;33m)\u001b[0m\u001b[1;33m\u001b[0m\u001b[1;33m\u001b[0m\u001b[0m\n",
      "\u001b[1;31mTypeError\u001b[0m: 'tuple' object does not support item assignment"
     ]
    }
   ],
   "source": [
    "tp[1]=5\n",
    "print(tp[1])"
   ]
  },
  {
   "cell_type": "code",
   "execution_count": 14,
   "metadata": {},
   "outputs": [
    {
     "name": "stdout",
     "output_type": "stream",
     "text": [
      "[11, [12, 'Asrafi'], [65, 'c'], 43]\n",
      "[12, 'Asrafi']\n",
      "c\n",
      "x\n"
     ]
    }
   ],
   "source": [
    "list = [11,[12,\"Asrafi\"],[65,'c'],43] #Nested List\n",
    "list2 = [11,[12,\"Asrafi\"],[65,[1,\"rafi\",'x'],'c'],43] #Nested List\n",
    "\n",
    "print(list)\n",
    "print(list[1])\n",
    "print(list[2][1])\n",
    "print(list2[2][1][2])"
   ]
  },
  {
   "cell_type": "code",
   "execution_count": 15,
   "metadata": {},
   "outputs": [
    {
     "name": "stdout",
     "output_type": "stream",
     "text": [
      "[11, 12, 'Asrafi', 65, 'c', 43, 50]\n"
     ]
    }
   ],
   "source": [
    "l = [11,12,\"Asrafi\",65,'c',43]\n",
    "\n",
    "l.append(50)\n",
    "print(l)"
   ]
  },
  {
   "cell_type": "code",
   "execution_count": 16,
   "metadata": {},
   "outputs": [
    {
     "name": "stdout",
     "output_type": "stream",
     "text": [
      "[11, 18, 12, 'Asrafi', 65, 'c', 43, 50]\n"
     ]
    }
   ],
   "source": [
    "l.insert(1,18)\n",
    "print(l)"
   ]
  },
  {
   "cell_type": "code",
   "execution_count": 18,
   "metadata": {},
   "outputs": [
    {
     "name": "stdout",
     "output_type": "stream",
     "text": [
      "[11, 18, 12, 'Asrafi', 65, 'c', 43, 50, 1, 5, 3, 1, 5, 3]\n",
      "2\n"
     ]
    }
   ],
   "source": [
    "l.extend([1,5,3])\n",
    "print(l)\n",
    "print(l.count(5))"
   ]
  },
  {
   "cell_type": "code",
   "execution_count": 19,
   "metadata": {},
   "outputs": [
    {
     "name": "stdout",
     "output_type": "stream",
     "text": [
      "[11, 18, 12, 'Asrafi', 65, 'c', 43, 50, 1, 3, 1, 5, 3]\n"
     ]
    }
   ],
   "source": [
    "l.remove(5)\n",
    "print(l)\n"
   ]
  },
  {
   "cell_type": "code",
   "execution_count": 20,
   "metadata": {},
   "outputs": [
    {
     "name": "stdout",
     "output_type": "stream",
     "text": [
      "[11, 18, 12, 'Asrafi', 65, 'c', 43, 50, 1, 3, 1, 5]\n"
     ]
    }
   ],
   "source": [
    "l.pop()\n",
    "print(l)"
   ]
  },
  {
   "cell_type": "code",
   "execution_count": 21,
   "metadata": {},
   "outputs": [
    {
     "name": "stdout",
     "output_type": "stream",
     "text": [
      "[11, 18, 'Asrafi', 65, 'c', 43, 50, 1, 3, 1, 5]\n"
     ]
    }
   ],
   "source": [
    "l.remove(l[2])\n",
    "print(l)"
   ]
  },
  {
   "cell_type": "code",
   "execution_count": 22,
   "metadata": {},
   "outputs": [
    {
     "name": "stdout",
     "output_type": "stream",
     "text": [
      "[11, 12, 43, 65]\n",
      "2\n"
     ]
    }
   ],
   "source": [
    "l = [11,12,65,43]\n",
    "\n",
    "l.sort()\n",
    "print(l)\n",
    "\n",
    "print(l.index(43))\n"
   ]
  },
  {
   "cell_type": "code",
   "execution_count": null,
   "metadata": {},
   "outputs": [],
   "source": []
  }
 ],
 "metadata": {
  "kernelspec": {
   "display_name": "Python 3",
   "language": "python",
   "name": "python3"
  },
  "language_info": {
   "codemirror_mode": {
    "name": "ipython",
    "version": 3
   },
   "file_extension": ".py",
   "mimetype": "text/x-python",
   "name": "python",
   "nbconvert_exporter": "python",
   "pygments_lexer": "ipython3",
   "version": "3.8.3"
  }
 },
 "nbformat": 4,
 "nbformat_minor": 4
}
